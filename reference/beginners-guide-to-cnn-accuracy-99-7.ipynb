{
 "cells": [
  {
   "cell_type": "markdown",
   "metadata": {
    "_uuid": "7c1124d10420db5921363254578bbbf93b2ba1b2"
   },
   "source": [
    "# MNIST-Digit-Recognizer-CNN-Keras\n",
    "* **You can also view and contribute to the notebook below ->**\n",
    "* **Github - [Digit-Recognizer-CNN](https://github.com/Chinmayrane16/MNIST-Digit-Recognizer-CNN-Keras-99.66)**\n",
    "* **Do Star/Upvote if you like it :)**"
   ]
  },
  {
   "cell_type": "markdown",
   "metadata": {
    "_uuid": "3a94fb0361293ffda1478d327baba1391c8e6921"
   },
   "source": [
    "## Topics\n",
    "1. [**Exploring the Dataset**](#there_you_go_1)\n",
    "> *  [1.1 Importing Libraries ](#there_you_go_1.1)\n",
    "  * [1.2 Load dataset ](#there_you_go_1.2)\n",
    "  * [1.3 Features ](#there_you_go_1.3)\n",
    "  * [1.4 Examine Dimensions ](#there_you_go_1.4)\n",
    "  * [1.5 Examine NaN values ](#there_you_go_1.5)\n",
    "2. [**Visualizing the Dataset**](#there_you_go_2)\n",
    "> * [2.1 Plotting Random Images ](#there_you_go_2.1)\n",
    "  * [2.2 Distribution of Labels ](#there_you_go_2.2)\n",
    "3. [**Data PreProcessing**](#there_you_go_3)\n",
    "> * [3.1 Setting Random Seeds ](#there_you_go_3.1)\n",
    " * [3.2 Splitting Data ](#there_you_go_3.2)\n",
    " * [3.3 Reshaping Images ](#there_you_go_3.3)\n",
    " * [3.4 Data Augmentation ](#there_you_go_3.4)\n",
    " * [3.5 Normalization ](#there_you_go_3.5)\n",
    " * [3.6 One Hot Encoding ](#there_you_go_3.6)\n",
    "4. [**Training ConvNet**](#there_you_go_4)\n",
    "> * [4.1 Why CNN ? ](#there_you_go_4.1)\n",
    " * [4.2 Building a ConvNet ](#there_you_go_4.2)\n",
    " * [4.3 Compiling Model ](#there_you_go_4.3)\n",
    " * [4.4 Model Summary ](#there_you_go_4.4)\n",
    " * [4.5 Learning Rate Decay ](#there_you_go_4.5)\n",
    " * [4.6 Fitting the Model](#there_you_go_4.6)\n",
    "5. [**Evaluating the Model**](#there_you_go_5)\n",
    "> * [5.1 Plotting Train and Validation curves ](#there_you_go_5.1)\n",
    "6. [**Plotting Confusion Matrix**](#there_you_go_6)\n",
    "7. [**Generating CSV File**](#there_you_go_7)\n",
    "8. [**Resources**](#there_you_go_8)"
   ]
  },
  {
   "cell_type": "markdown",
   "metadata": {
    "_uuid": "699f21acf39b32be51c5d3e2cdb17f6e3477a835"
   },
   "source": [
    "<a id=\"there_you_go_1\"></a>\n",
    "# 1) Exploring the Dataset"
   ]
  },
  {
   "cell_type": "markdown",
   "metadata": {
    "_uuid": "ec43ec0a7ca1a14097b20be2ee1d100119458fef"
   },
   "source": [
    "<a id=\"there_you_go_1.1\"></a>\n",
    "## 1.1) Importing Libraries"
   ]
  },
  {
   "cell_type": "code",
   "execution_count": 1,
   "metadata": {
    "_cell_guid": "b1076dfc-b9ad-4769-8c92-a6c4dae69d19",
    "_uuid": "8f2839f25d086af736a60e9eeb907d3b93b6e0e5"
   },
   "outputs": [
    {
     "name": "stderr",
     "output_type": "stream",
     "text": [
      "Using TensorFlow backend.\n"
     ]
    }
   ],
   "source": [
    "# Ignore warnings :\n",
    "import warnings\n",
    "warnings.filterwarnings('ignore')\n",
    "\n",
    "\n",
    "# Handle table-like data and matrices :\n",
    "import numpy as np\n",
    "import pandas as pd\n",
    "import math \n",
    "import itertools\n",
    "\n",
    "\n",
    "\n",
    "# Modelling Algorithms :\n",
    "\n",
    "# Classification\n",
    "from sklearn.tree import DecisionTreeClassifier\n",
    "from sklearn.linear_model import LogisticRegression\n",
    "from sklearn.neighbors import KNeighborsClassifier\n",
    "from sklearn.naive_bayes import GaussianNB\n",
    "from sklearn.svm import SVC, LinearSVC\n",
    "from sklearn.ensemble import RandomForestClassifier , GradientBoostingClassifier\n",
    "from sklearn.discriminant_analysis import LinearDiscriminantAnalysis , QuadraticDiscriminantAnalysis\n",
    "\n",
    "# Regression\n",
    "from sklearn.linear_model import LinearRegression,Ridge,Lasso,RidgeCV, ElasticNet\n",
    "from sklearn.ensemble import RandomForestRegressor,BaggingRegressor,GradientBoostingRegressor,AdaBoostRegressor \n",
    "from sklearn.svm import SVR\n",
    "from sklearn.neighbors import KNeighborsRegressor\n",
    "from sklearn.neural_network import MLPRegressor\n",
    "\n",
    "\n",
    "\n",
    "\n",
    "# Modelling Helpers :\n",
    "from sklearn.preprocessing import Imputer , Normalizer , scale\n",
    "from sklearn.model_selection import train_test_split\n",
    "from sklearn.metrics import confusion_matrix\n",
    "from sklearn.feature_selection import RFECV\n",
    "from sklearn.model_selection import GridSearchCV , KFold , cross_val_score\n",
    "\n",
    "\n",
    "\n",
    "#preprocessing :\n",
    "from sklearn.preprocessing import MinMaxScaler , StandardScaler, Imputer, LabelEncoder\n",
    "\n",
    "\n",
    "\n",
    "#evaluation metrics :\n",
    "\n",
    "# Regression\n",
    "from sklearn.metrics import mean_squared_log_error,mean_squared_error, r2_score,mean_absolute_error \n",
    "\n",
    "# Classification\n",
    "from sklearn.metrics import accuracy_score,precision_score,recall_score,f1_score  \n",
    "\n",
    "\n",
    "# Deep Learning Libraries\n",
    "from keras.models import Sequential, load_model\n",
    "from keras.layers import Dense, Dropout, Flatten\n",
    "from keras.layers import Conv2D, MaxPooling2D, BatchNormalization\n",
    "from keras.optimizers import Adam,SGD,Adagrad,Adadelta,RMSprop\n",
    "from keras.preprocessing.image import ImageDataGenerator\n",
    "from keras.callbacks import ReduceLROnPlateau, LearningRateScheduler\n",
    "from keras.utils import to_categorical\n",
    "\n",
    "\n",
    "\n",
    "# Visualisation\n",
    "import matplotlib as mpl\n",
    "import matplotlib.pyplot as plt\n",
    "import matplotlib.pylab as pylab\n",
    "import seaborn as sns\n",
    "import missingno as msno\n",
    "\n",
    "\n",
    "\n",
    "# Configure visualisations\n",
    "%matplotlib inline\n",
    "mpl.style.use( 'ggplot' )\n",
    "plt.style.use('fivethirtyeight')\n",
    "sns.set(context=\"notebook\", palette=\"dark\", style = 'whitegrid' , color_codes=True)\n",
    "params = { \n",
    "    'axes.labelsize': \"large\",\n",
    "    'xtick.labelsize': 'x-large',\n",
    "    'legend.fontsize': 20,\n",
    "    'figure.dpi': 150,\n",
    "    'figure.figsize': [25, 7]\n",
    "}\n",
    "plt.rcParams.update(params)"
   ]
  },
  {
   "cell_type": "code",
   "execution_count": 2,
   "metadata": {
    "_cell_guid": "79c7e3d0-c299-4dcb-8224-4455121ee9b0",
    "_uuid": "d629ff2d2480ee46fbb7e2d37f6b5fab8052498a"
   },
   "outputs": [],
   "source": [
    "# Center all plots\n",
    "from IPython.core.display import HTML\n",
    "HTML(\"\"\"\n",
    "<style>\n",
    ".output_png {\n",
    "    display: table-cell;\n",
    "    text-align: center;\n",
    "    vertical-align: middle;\n",
    "}\n",
    "</style>\n",
    "\"\"\");"
   ]
  },
  {
   "cell_type": "markdown",
   "metadata": {
    "_uuid": "8b78de561f9a4db9148451285f34caee55ad78ec"
   },
   "source": [
    "<a id=\"there_you_go_1.2\"></a>\n",
    "## 1.2) Load Dataset\n",
    "* Specify the location to the Dataset and import them."
   ]
  },
  {
   "cell_type": "code",
   "execution_count": 3,
   "metadata": {
    "_uuid": "39674a1a6b58e441ae7479ab72a74e45867a97d4"
   },
   "outputs": [],
   "source": [
    "train = pd.read_csv('../input/train.csv')\n",
    "test = pd.read_csv('../input/test.csv')\n",
    "df = train.copy()\n",
    "df_test = test.copy()"
   ]
  },
  {
   "cell_type": "code",
   "execution_count": 4,
   "metadata": {
    "_uuid": "1f9a7944df9c1f80b5f509001f409499a74912ad"
   },
   "outputs": [
    {
     "data": {
      "text/html": [
       "<div>\n",
       "<style scoped>\n",
       "    .dataframe tbody tr th:only-of-type {\n",
       "        vertical-align: middle;\n",
       "    }\n",
       "\n",
       "    .dataframe tbody tr th {\n",
       "        vertical-align: top;\n",
       "    }\n",
       "\n",
       "    .dataframe thead th {\n",
       "        text-align: right;\n",
       "    }\n",
       "</style>\n",
       "<table border=\"1\" class=\"dataframe\">\n",
       "  <thead>\n",
       "    <tr style=\"text-align: right;\">\n",
       "      <th></th>\n",
       "      <th>label</th>\n",
       "      <th>pixel0</th>\n",
       "      <th>pixel1</th>\n",
       "      <th>pixel2</th>\n",
       "      <th>pixel3</th>\n",
       "      <th>pixel4</th>\n",
       "      <th>pixel5</th>\n",
       "      <th>pixel6</th>\n",
       "      <th>pixel7</th>\n",
       "      <th>pixel8</th>\n",
       "      <th>...</th>\n",
       "      <th>pixel774</th>\n",
       "      <th>pixel775</th>\n",
       "      <th>pixel776</th>\n",
       "      <th>pixel777</th>\n",
       "      <th>pixel778</th>\n",
       "      <th>pixel779</th>\n",
       "      <th>pixel780</th>\n",
       "      <th>pixel781</th>\n",
       "      <th>pixel782</th>\n",
       "      <th>pixel783</th>\n",
       "    </tr>\n",
       "  </thead>\n",
       "  <tbody>\n",
       "    <tr>\n",
       "      <th>0</th>\n",
       "      <td>1</td>\n",
       "      <td>0</td>\n",
       "      <td>0</td>\n",
       "      <td>0</td>\n",
       "      <td>0</td>\n",
       "      <td>0</td>\n",
       "      <td>0</td>\n",
       "      <td>0</td>\n",
       "      <td>0</td>\n",
       "      <td>0</td>\n",
       "      <td>...</td>\n",
       "      <td>0</td>\n",
       "      <td>0</td>\n",
       "      <td>0</td>\n",
       "      <td>0</td>\n",
       "      <td>0</td>\n",
       "      <td>0</td>\n",
       "      <td>0</td>\n",
       "      <td>0</td>\n",
       "      <td>0</td>\n",
       "      <td>0</td>\n",
       "    </tr>\n",
       "    <tr>\n",
       "      <th>1</th>\n",
       "      <td>0</td>\n",
       "      <td>0</td>\n",
       "      <td>0</td>\n",
       "      <td>0</td>\n",
       "      <td>0</td>\n",
       "      <td>0</td>\n",
       "      <td>0</td>\n",
       "      <td>0</td>\n",
       "      <td>0</td>\n",
       "      <td>0</td>\n",
       "      <td>...</td>\n",
       "      <td>0</td>\n",
       "      <td>0</td>\n",
       "      <td>0</td>\n",
       "      <td>0</td>\n",
       "      <td>0</td>\n",
       "      <td>0</td>\n",
       "      <td>0</td>\n",
       "      <td>0</td>\n",
       "      <td>0</td>\n",
       "      <td>0</td>\n",
       "    </tr>\n",
       "    <tr>\n",
       "      <th>2</th>\n",
       "      <td>1</td>\n",
       "      <td>0</td>\n",
       "      <td>0</td>\n",
       "      <td>0</td>\n",
       "      <td>0</td>\n",
       "      <td>0</td>\n",
       "      <td>0</td>\n",
       "      <td>0</td>\n",
       "      <td>0</td>\n",
       "      <td>0</td>\n",
       "      <td>...</td>\n",
       "      <td>0</td>\n",
       "      <td>0</td>\n",
       "      <td>0</td>\n",
       "      <td>0</td>\n",
       "      <td>0</td>\n",
       "      <td>0</td>\n",
       "      <td>0</td>\n",
       "      <td>0</td>\n",
       "      <td>0</td>\n",
       "      <td>0</td>\n",
       "    </tr>\n",
       "    <tr>\n",
       "      <th>3</th>\n",
       "      <td>4</td>\n",
       "      <td>0</td>\n",
       "      <td>0</td>\n",
       "      <td>0</td>\n",
       "      <td>0</td>\n",
       "      <td>0</td>\n",
       "      <td>0</td>\n",
       "      <td>0</td>\n",
       "      <td>0</td>\n",
       "      <td>0</td>\n",
       "      <td>...</td>\n",
       "      <td>0</td>\n",
       "      <td>0</td>\n",
       "      <td>0</td>\n",
       "      <td>0</td>\n",
       "      <td>0</td>\n",
       "      <td>0</td>\n",
       "      <td>0</td>\n",
       "      <td>0</td>\n",
       "      <td>0</td>\n",
       "      <td>0</td>\n",
       "    </tr>\n",
       "    <tr>\n",
       "      <th>4</th>\n",
       "      <td>0</td>\n",
       "      <td>0</td>\n",
       "      <td>0</td>\n",
       "      <td>0</td>\n",
       "      <td>0</td>\n",
       "      <td>0</td>\n",
       "      <td>0</td>\n",
       "      <td>0</td>\n",
       "      <td>0</td>\n",
       "      <td>0</td>\n",
       "      <td>...</td>\n",
       "      <td>0</td>\n",
       "      <td>0</td>\n",
       "      <td>0</td>\n",
       "      <td>0</td>\n",
       "      <td>0</td>\n",
       "      <td>0</td>\n",
       "      <td>0</td>\n",
       "      <td>0</td>\n",
       "      <td>0</td>\n",
       "      <td>0</td>\n",
       "    </tr>\n",
       "  </tbody>\n",
       "</table>\n",
       "<p>5 rows × 785 columns</p>\n",
       "</div>"
      ],
      "text/plain": [
       "   label  pixel0  pixel1  pixel2  pixel3  pixel4  pixel5  pixel6  pixel7  \\\n",
       "0      1       0       0       0       0       0       0       0       0   \n",
       "1      0       0       0       0       0       0       0       0       0   \n",
       "2      1       0       0       0       0       0       0       0       0   \n",
       "3      4       0       0       0       0       0       0       0       0   \n",
       "4      0       0       0       0       0       0       0       0       0   \n",
       "\n",
       "   pixel8  ...  pixel774  pixel775  pixel776  pixel777  pixel778  pixel779  \\\n",
       "0       0  ...         0         0         0         0         0         0   \n",
       "1       0  ...         0         0         0         0         0         0   \n",
       "2       0  ...         0         0         0         0         0         0   \n",
       "3       0  ...         0         0         0         0         0         0   \n",
       "4       0  ...         0         0         0         0         0         0   \n",
       "\n",
       "   pixel780  pixel781  pixel782  pixel783  \n",
       "0         0         0         0         0  \n",
       "1         0         0         0         0  \n",
       "2         0         0         0         0  \n",
       "3         0         0         0         0  \n",
       "4         0         0         0         0  \n",
       "\n",
       "[5 rows x 785 columns]"
      ]
     },
     "execution_count": 4,
     "metadata": {},
     "output_type": "execute_result"
    }
   ],
   "source": [
    "# How the Data looks\n",
    "df.head()"
   ]
  },
  {
   "cell_type": "markdown",
   "metadata": {
    "_uuid": "2ac8a2c8bc694be9d5b76891b21f603765a8a5d9"
   },
   "source": [
    "<a id=\"there_you_go_1.3\"></a>\n",
    "## 1.3) Features\n",
    "* **Label: ** The Target variable.\n",
    "* **Pixels: ** The smallest unit of a Digital Image or Graphic that can be displayed on Digital Display Device.\n",
    "\n",
    "Where humans can see the objects due to the Light Receptors in their Eyes which send Signals via the Optic Nerve to the Primary Visual Cortex, where the input is processed ,\n",
    "\n",
    "Computers on the other hand, see the Image as 2-dimensional arrays of numbers, known as pixels. They Classify Images based on Boundaries and Curvatures of the Object (Represented by pixel values, either RGB or GrayScale) ."
   ]
  },
  {
   "cell_type": "markdown",
   "metadata": {
    "_uuid": "ddda2bb1c9daf9412f828c93df2236b75393f931"
   },
   "source": [
    "![](https://i.imgur.com/Rlh3FGT.png)"
   ]
  },
  {
   "cell_type": "markdown",
   "metadata": {
    "_uuid": "ffa9e9f7935a0f98cac7badabe0f878faa480b9f"
   },
   "source": [
    "<a id=\"there_you_go_1.4\"></a>\n",
    "## 1.4) Examine Dimensions"
   ]
  },
  {
   "cell_type": "code",
   "execution_count": 5,
   "metadata": {
    "_uuid": "4ad7084c3f0850dc3d0f779c6fe1173e07184814"
   },
   "outputs": [
    {
     "name": "stdout",
     "output_type": "stream",
     "text": [
      "Train:  (42000, 785)\n",
      "Test:  (28000, 784)\n"
     ]
    }
   ],
   "source": [
    "print(\"Train: \", df.shape)\n",
    "print(\"Test: \", df_test.shape)"
   ]
  },
  {
   "cell_type": "markdown",
   "metadata": {
    "_uuid": "a8d4cafc0503656fdc9f39f7810e55f64e5db750"
   },
   "source": [
    "* **So, there are 42000 Train Examples and 28000 Test Examples.**\n",
    "* **Each image is 28 pixels in height and 28 pixels in width, with 784 pixels in total.**\n",
    "> * Each pixel has a single pixel-value associated with it, indicating the lightness or darkness of that pixel, with higher numbers meaning darker. \n",
    "> * This pixel-value is an integer between 0 and 255, inclusive.\n",
    "* **There is one extra column in Training sample called \"Label\" which is the Digit drawn by the user.**"
   ]
  },
  {
   "cell_type": "code",
   "execution_count": 6,
   "metadata": {
    "_uuid": "cf349c60fd1d493fbe4fd5e98a1073560eef384e"
   },
   "outputs": [
    {
     "data": {
      "text/html": [
       "<div>\n",
       "<style scoped>\n",
       "    .dataframe tbody tr th:only-of-type {\n",
       "        vertical-align: middle;\n",
       "    }\n",
       "\n",
       "    .dataframe tbody tr th {\n",
       "        vertical-align: top;\n",
       "    }\n",
       "\n",
       "    .dataframe thead th {\n",
       "        text-align: right;\n",
       "    }\n",
       "</style>\n",
       "<table border=\"1\" class=\"dataframe\">\n",
       "  <thead>\n",
       "    <tr style=\"text-align: right;\">\n",
       "      <th></th>\n",
       "      <th>label</th>\n",
       "      <th>pixel0</th>\n",
       "      <th>pixel1</th>\n",
       "      <th>pixel2</th>\n",
       "      <th>pixel3</th>\n",
       "      <th>pixel4</th>\n",
       "      <th>pixel5</th>\n",
       "      <th>pixel6</th>\n",
       "      <th>pixel7</th>\n",
       "      <th>pixel8</th>\n",
       "      <th>...</th>\n",
       "      <th>pixel774</th>\n",
       "      <th>pixel775</th>\n",
       "      <th>pixel776</th>\n",
       "      <th>pixel777</th>\n",
       "      <th>pixel778</th>\n",
       "      <th>pixel779</th>\n",
       "      <th>pixel780</th>\n",
       "      <th>pixel781</th>\n",
       "      <th>pixel782</th>\n",
       "      <th>pixel783</th>\n",
       "    </tr>\n",
       "  </thead>\n",
       "  <tbody>\n",
       "    <tr>\n",
       "      <th>count</th>\n",
       "      <td>42000.000000</td>\n",
       "      <td>42000.0</td>\n",
       "      <td>42000.0</td>\n",
       "      <td>42000.0</td>\n",
       "      <td>42000.0</td>\n",
       "      <td>42000.0</td>\n",
       "      <td>42000.0</td>\n",
       "      <td>42000.0</td>\n",
       "      <td>42000.0</td>\n",
       "      <td>42000.0</td>\n",
       "      <td>...</td>\n",
       "      <td>42000.000000</td>\n",
       "      <td>42000.000000</td>\n",
       "      <td>42000.000000</td>\n",
       "      <td>42000.00000</td>\n",
       "      <td>42000.000000</td>\n",
       "      <td>42000.000000</td>\n",
       "      <td>42000.0</td>\n",
       "      <td>42000.0</td>\n",
       "      <td>42000.0</td>\n",
       "      <td>42000.0</td>\n",
       "    </tr>\n",
       "    <tr>\n",
       "      <th>mean</th>\n",
       "      <td>4.456643</td>\n",
       "      <td>0.0</td>\n",
       "      <td>0.0</td>\n",
       "      <td>0.0</td>\n",
       "      <td>0.0</td>\n",
       "      <td>0.0</td>\n",
       "      <td>0.0</td>\n",
       "      <td>0.0</td>\n",
       "      <td>0.0</td>\n",
       "      <td>0.0</td>\n",
       "      <td>...</td>\n",
       "      <td>0.219286</td>\n",
       "      <td>0.117095</td>\n",
       "      <td>0.059024</td>\n",
       "      <td>0.02019</td>\n",
       "      <td>0.017238</td>\n",
       "      <td>0.002857</td>\n",
       "      <td>0.0</td>\n",
       "      <td>0.0</td>\n",
       "      <td>0.0</td>\n",
       "      <td>0.0</td>\n",
       "    </tr>\n",
       "    <tr>\n",
       "      <th>std</th>\n",
       "      <td>2.887730</td>\n",
       "      <td>0.0</td>\n",
       "      <td>0.0</td>\n",
       "      <td>0.0</td>\n",
       "      <td>0.0</td>\n",
       "      <td>0.0</td>\n",
       "      <td>0.0</td>\n",
       "      <td>0.0</td>\n",
       "      <td>0.0</td>\n",
       "      <td>0.0</td>\n",
       "      <td>...</td>\n",
       "      <td>6.312890</td>\n",
       "      <td>4.633819</td>\n",
       "      <td>3.274488</td>\n",
       "      <td>1.75987</td>\n",
       "      <td>1.894498</td>\n",
       "      <td>0.414264</td>\n",
       "      <td>0.0</td>\n",
       "      <td>0.0</td>\n",
       "      <td>0.0</td>\n",
       "      <td>0.0</td>\n",
       "    </tr>\n",
       "    <tr>\n",
       "      <th>min</th>\n",
       "      <td>0.000000</td>\n",
       "      <td>0.0</td>\n",
       "      <td>0.0</td>\n",
       "      <td>0.0</td>\n",
       "      <td>0.0</td>\n",
       "      <td>0.0</td>\n",
       "      <td>0.0</td>\n",
       "      <td>0.0</td>\n",
       "      <td>0.0</td>\n",
       "      <td>0.0</td>\n",
       "      <td>...</td>\n",
       "      <td>0.000000</td>\n",
       "      <td>0.000000</td>\n",
       "      <td>0.000000</td>\n",
       "      <td>0.00000</td>\n",
       "      <td>0.000000</td>\n",
       "      <td>0.000000</td>\n",
       "      <td>0.0</td>\n",
       "      <td>0.0</td>\n",
       "      <td>0.0</td>\n",
       "      <td>0.0</td>\n",
       "    </tr>\n",
       "    <tr>\n",
       "      <th>25%</th>\n",
       "      <td>2.000000</td>\n",
       "      <td>0.0</td>\n",
       "      <td>0.0</td>\n",
       "      <td>0.0</td>\n",
       "      <td>0.0</td>\n",
       "      <td>0.0</td>\n",
       "      <td>0.0</td>\n",
       "      <td>0.0</td>\n",
       "      <td>0.0</td>\n",
       "      <td>0.0</td>\n",
       "      <td>...</td>\n",
       "      <td>0.000000</td>\n",
       "      <td>0.000000</td>\n",
       "      <td>0.000000</td>\n",
       "      <td>0.00000</td>\n",
       "      <td>0.000000</td>\n",
       "      <td>0.000000</td>\n",
       "      <td>0.0</td>\n",
       "      <td>0.0</td>\n",
       "      <td>0.0</td>\n",
       "      <td>0.0</td>\n",
       "    </tr>\n",
       "    <tr>\n",
       "      <th>50%</th>\n",
       "      <td>4.000000</td>\n",
       "      <td>0.0</td>\n",
       "      <td>0.0</td>\n",
       "      <td>0.0</td>\n",
       "      <td>0.0</td>\n",
       "      <td>0.0</td>\n",
       "      <td>0.0</td>\n",
       "      <td>0.0</td>\n",
       "      <td>0.0</td>\n",
       "      <td>0.0</td>\n",
       "      <td>...</td>\n",
       "      <td>0.000000</td>\n",
       "      <td>0.000000</td>\n",
       "      <td>0.000000</td>\n",
       "      <td>0.00000</td>\n",
       "      <td>0.000000</td>\n",
       "      <td>0.000000</td>\n",
       "      <td>0.0</td>\n",
       "      <td>0.0</td>\n",
       "      <td>0.0</td>\n",
       "      <td>0.0</td>\n",
       "    </tr>\n",
       "    <tr>\n",
       "      <th>75%</th>\n",
       "      <td>7.000000</td>\n",
       "      <td>0.0</td>\n",
       "      <td>0.0</td>\n",
       "      <td>0.0</td>\n",
       "      <td>0.0</td>\n",
       "      <td>0.0</td>\n",
       "      <td>0.0</td>\n",
       "      <td>0.0</td>\n",
       "      <td>0.0</td>\n",
       "      <td>0.0</td>\n",
       "      <td>...</td>\n",
       "      <td>0.000000</td>\n",
       "      <td>0.000000</td>\n",
       "      <td>0.000000</td>\n",
       "      <td>0.00000</td>\n",
       "      <td>0.000000</td>\n",
       "      <td>0.000000</td>\n",
       "      <td>0.0</td>\n",
       "      <td>0.0</td>\n",
       "      <td>0.0</td>\n",
       "      <td>0.0</td>\n",
       "    </tr>\n",
       "    <tr>\n",
       "      <th>max</th>\n",
       "      <td>9.000000</td>\n",
       "      <td>0.0</td>\n",
       "      <td>0.0</td>\n",
       "      <td>0.0</td>\n",
       "      <td>0.0</td>\n",
       "      <td>0.0</td>\n",
       "      <td>0.0</td>\n",
       "      <td>0.0</td>\n",
       "      <td>0.0</td>\n",
       "      <td>0.0</td>\n",
       "      <td>...</td>\n",
       "      <td>254.000000</td>\n",
       "      <td>254.000000</td>\n",
       "      <td>253.000000</td>\n",
       "      <td>253.00000</td>\n",
       "      <td>254.000000</td>\n",
       "      <td>62.000000</td>\n",
       "      <td>0.0</td>\n",
       "      <td>0.0</td>\n",
       "      <td>0.0</td>\n",
       "      <td>0.0</td>\n",
       "    </tr>\n",
       "  </tbody>\n",
       "</table>\n",
       "<p>8 rows × 785 columns</p>\n",
       "</div>"
      ],
      "text/plain": [
       "              label   pixel0   pixel1   pixel2   pixel3   pixel4   pixel5  \\\n",
       "count  42000.000000  42000.0  42000.0  42000.0  42000.0  42000.0  42000.0   \n",
       "mean       4.456643      0.0      0.0      0.0      0.0      0.0      0.0   \n",
       "std        2.887730      0.0      0.0      0.0      0.0      0.0      0.0   \n",
       "min        0.000000      0.0      0.0      0.0      0.0      0.0      0.0   \n",
       "25%        2.000000      0.0      0.0      0.0      0.0      0.0      0.0   \n",
       "50%        4.000000      0.0      0.0      0.0      0.0      0.0      0.0   \n",
       "75%        7.000000      0.0      0.0      0.0      0.0      0.0      0.0   \n",
       "max        9.000000      0.0      0.0      0.0      0.0      0.0      0.0   \n",
       "\n",
       "        pixel6   pixel7   pixel8  ...      pixel774      pixel775  \\\n",
       "count  42000.0  42000.0  42000.0  ...  42000.000000  42000.000000   \n",
       "mean       0.0      0.0      0.0  ...      0.219286      0.117095   \n",
       "std        0.0      0.0      0.0  ...      6.312890      4.633819   \n",
       "min        0.0      0.0      0.0  ...      0.000000      0.000000   \n",
       "25%        0.0      0.0      0.0  ...      0.000000      0.000000   \n",
       "50%        0.0      0.0      0.0  ...      0.000000      0.000000   \n",
       "75%        0.0      0.0      0.0  ...      0.000000      0.000000   \n",
       "max        0.0      0.0      0.0  ...    254.000000    254.000000   \n",
       "\n",
       "           pixel776     pixel777      pixel778      pixel779  pixel780  \\\n",
       "count  42000.000000  42000.00000  42000.000000  42000.000000   42000.0   \n",
       "mean       0.059024      0.02019      0.017238      0.002857       0.0   \n",
       "std        3.274488      1.75987      1.894498      0.414264       0.0   \n",
       "min        0.000000      0.00000      0.000000      0.000000       0.0   \n",
       "25%        0.000000      0.00000      0.000000      0.000000       0.0   \n",
       "50%        0.000000      0.00000      0.000000      0.000000       0.0   \n",
       "75%        0.000000      0.00000      0.000000      0.000000       0.0   \n",
       "max      253.000000    253.00000    254.000000     62.000000       0.0   \n",
       "\n",
       "       pixel781  pixel782  pixel783  \n",
       "count   42000.0   42000.0   42000.0  \n",
       "mean        0.0       0.0       0.0  \n",
       "std         0.0       0.0       0.0  \n",
       "min         0.0       0.0       0.0  \n",
       "25%         0.0       0.0       0.0  \n",
       "50%         0.0       0.0       0.0  \n",
       "75%         0.0       0.0       0.0  \n",
       "max         0.0       0.0       0.0  \n",
       "\n",
       "[8 rows x 785 columns]"
      ]
     },
     "execution_count": 6,
     "metadata": {},
     "output_type": "execute_result"
    }
   ],
   "source": [
    "df.describe()"
   ]
  },
  {
   "cell_type": "markdown",
   "metadata": {
    "_uuid": "9c229c540374301826cbaa783c0d4da994168792"
   },
   "source": [
    "<a id=\"there_you_go_1.5\"></a>\n",
    "## 1.5) Examine NaN Values"
   ]
  },
  {
   "cell_type": "code",
   "execution_count": 7,
   "metadata": {
    "_uuid": "8e3f318bbaef4e6f3535165d3f0844f9e96fd107"
   },
   "outputs": [
    {
     "data": {
      "text/plain": [
       "0"
      ]
     },
     "execution_count": 7,
     "metadata": {},
     "output_type": "execute_result"
    }
   ],
   "source": [
    "# Train\n",
    "df.isnull().any().sum()"
   ]
  },
  {
   "cell_type": "code",
   "execution_count": 8,
   "metadata": {
    "_uuid": "9f2c7edc9d9020fc64a5c430fdef7ef8150870a3"
   },
   "outputs": [
    {
     "data": {
      "text/plain": [
       "0"
      ]
     },
     "execution_count": 8,
     "metadata": {},
     "output_type": "execute_result"
    }
   ],
   "source": [
    "# Test\n",
    "df_test.isnull().any().sum()"
   ]
  },
  {
   "cell_type": "markdown",
   "metadata": {
    "_uuid": "2da7c2b4461417c182dcb26681b12b418d5194f4"
   },
   "source": [
    "**So, there are No Null Values in Train and Test set.**"
   ]
  },
  {
   "cell_type": "code",
   "execution_count": null,
   "metadata": {
    "_uuid": "d0bcd0fb5d92e92168369a08d14f9f1580b62b38"
   },
   "outputs": [],
   "source": []
  },
  {
   "cell_type": "markdown",
   "metadata": {
    "_uuid": "ce7a33e3a789aa879a1fe66167726ede3a231425"
   },
   "source": [
    "<a id=\"there_you_go_2\"></a>\n",
    "# 2) Visualizing The Dataset"
   ]
  },
  {
   "cell_type": "markdown",
   "metadata": {
    "_uuid": "9306b2c12628278fc778fa9f5884a88b6849c289"
   },
   "source": [
    "<a id=\"there_you_go_2.1\"></a>\n",
    "## 2.1) Plotting Random Images"
   ]
  },
  {
   "cell_type": "code",
   "execution_count": 9,
   "metadata": {
    "_uuid": "81208b465ca52478c5ce384d633d81414181452b"
   },
   "outputs": [
    {
     "name": "stdout",
     "output_type": "stream",
     "text": [
      "[36867 31052 17826 31609]\n"
     ]
    }
   ],
   "source": [
    "# Generate Random Numbers\n",
    "rdm = np.random.randint(0,42000,size=4)\n",
    "print(rdm)"
   ]
  },
  {
   "cell_type": "code",
   "execution_count": 10,
   "metadata": {
    "_uuid": "ca5fdf5eba582818079cd64bfca7ec38ae236009"
   },
   "outputs": [
    {
     "data": {
      "text/plain": [
       "<matplotlib.image.AxesImage at 0x7fbebe4f3898>"
      ]
     },
     "execution_count": 10,
     "metadata": {},
     "output_type": "execute_result"
    },
    {
     "data": {
      "image/png": "[encoded data removed]",
      "text/plain": [
       "<Figure size 720x720 with 4 Axes>"
      ]
     },
     "metadata": {
      "needs_background": "light"
     },
     "output_type": "display_data"
    }
   ],
   "source": [
    "fig, ax = plt.subplots(2,2, figsize=(12,6))\n",
    "fig.set_size_inches(10,10)\n",
    "ax[0,0].imshow(df.drop('label',axis=1).values[rdm[0]].reshape(28,28),cmap='gray')\n",
    "ax[0,1].imshow(df.drop('label',axis=1).values[rdm[1]].reshape(28,28),cmap='gray')\n",
    "ax[1,0].imshow(df.drop('label',axis=1).values[rdm[2]].reshape(28,28),cmap='gray')\n",
    "ax[1,1].imshow(df.drop('label',axis=1).values[rdm[3]].reshape(28,28),cmap='gray')"
   ]
  },
  {
   "cell_type": "markdown",
   "metadata": {
    "_uuid": "3141c080eee490bc973337cfe5dd95e1ac01d735"
   },
   "source": [
    "<a id=\"there_you_go_2.2\"></a>\n",
    "## 2.2) Distribution of Labels\n",
    "**Let's look at the Distribution of labels to visualize if there are any Skewed Classes.**"
   ]
  },
  {
   "cell_type": "code",
   "execution_count": 11,
   "metadata": {
    "_uuid": "850fa3bca064e2f8ef0bba653bf1f47dcbcae1a7"
   },
   "outputs": [
    {
     "data": {
      "text/plain": [
       "1    4684\n",
       "7    4401\n",
       "3    4351\n",
       "9    4188\n",
       "2    4177\n",
       "6    4137\n",
       "0    4132\n",
       "4    4072\n",
       "8    4063\n",
       "5    3795\n",
       "Name: label, dtype: int64"
      ]
     },
     "execution_count": 11,
     "metadata": {},
     "output_type": "execute_result"
    }
   ],
   "source": [
    "df['label'].value_counts()"
   ]
  },
  {
   "cell_type": "code",
   "execution_count": 12,
   "metadata": {
    "_uuid": "52b8911b4f29b0130115d00d9031ec68f6717eed"
   },
   "outputs": [
    {
     "data": {
      "text/plain": [
       "Text(0.5, 1.0, \"Distribution of Label's\")"
      ]
     },
     "execution_count": 12,
     "metadata": {},
     "output_type": "execute_result"
    },
    {
     "data": {
      "image/png": "[encoded data removed]",
      "text/plain": [
       "<Figure size 936x504 with 1 Axes>"
      ]
     },
     "metadata": {
      "needs_background": "light"
     },
     "output_type": "display_data"
    }
   ],
   "source": [
    "plt.figure(figsize=(13,7))\n",
    "plt.hist( x=df['label'] , bins=19 ,color='c')\n",
    "plt.xlabel('Digits')\n",
    "plt.ylabel('Frequency')\n",
    "plt.title('Distribution of Label\\'s')"
   ]
  },
  {
   "cell_type": "markdown",
   "metadata": {
    "_uuid": "5429cddfa6885dcf4ed37f96076616ddcad9da07"
   },
   "source": [
    "* **We can see that all the classes from 0-9 are distributed almost equally.**\n",
    "* **So, there is no need for OverSampling or UnderSampling.**"
   ]
  },
  {
   "cell_type": "markdown",
   "metadata": {
    "_uuid": "716e099a03873043e87af893befdeab0bf07e395"
   },
   "source": [
    "<a id=\"there_you_go_3\"></a>\n",
    "# 3) Data Preprocessing"
   ]
  },
  {
   "cell_type": "markdown",
   "metadata": {
    "_uuid": "f9323a4b6f43bc6ff46de8ba2a2eb458dd2efec0"
   },
   "source": [
    "<a id=\"there_you_go_3.1\"></a>\n",
    "## 3.1) Setting the Random Seeds"
   ]
  },
  {
   "cell_type": "code",
   "execution_count": 13,
   "metadata": {
    "_uuid": "270a2e4edfd27d5fb844c31b541bc9f5820d96a6"
   },
   "outputs": [],
   "source": [
    "## Setting the seeds for Reproducibility.\n",
    "seed = 66\n",
    "np.random.seed(seed)"
   ]
  },
  {
   "cell_type": "markdown",
   "metadata": {
    "_uuid": "fbd2957cd75a6bb036201db28307d6f9f435e871"
   },
   "source": [
    "<a id=\"there_you_go_3.2\"></a>\n",
    "## 3.2) Split Data into Train and Validation \n",
    "We split the data into a Training set and a Validation set, so that we can Evaluate the performance of our model."
   ]
  },
  {
   "cell_type": "code",
   "execution_count": 14,
   "metadata": {
    "_uuid": "e0166a4ab9d95f1f6eb608904a58831609ef7d69"
   },
   "outputs": [],
   "source": [
    "X = train.iloc[:,1:]\n",
    "Y = train.iloc[:,0]\n",
    "x_train , x_test , y_train , y_test = train_test_split(X, Y , test_size=0.1, random_state=seed)"
   ]
  },
  {
   "cell_type": "markdown",
   "metadata": {
    "_uuid": "e254b7537fc5ca29da53d223f0e39535d9704ee0"
   },
   "source": [
    "<a id=\"there_you_go_3.3\"></a>\n",
    "## 3.3) Reshape the Images\n",
    "* Note that we have Images as 1D vector each containing 784 pixels. Before we feed the data to the CNN we must reshape the data into (28x28x1) 3D matrices.\n",
    "* This is because Keras wants an Extra Dimension in the end, for channels. If this had been RGB images, there would have been 3 channels, but as MNIST is gray scale it only uses one."
   ]
  },
  {
   "cell_type": "code",
   "execution_count": 15,
   "metadata": {
    "_uuid": "362cff6811630624bca033f5b194fbd5d7b861be"
   },
   "outputs": [],
   "source": [
    "# The first parameter in reshape indicates the number of examples.\n",
    "# We pass it as -1, which means that it is an unknown dimension and we want numpy to figure it out.\n",
    "\n",
    "# reshape(examples, height, width, channels)\n",
    "x_train = x_train.values.reshape(-1, 28, 28, 1)\n",
    "x_test = x_test.values.reshape(-1, 28, 28, 1)\n",
    "df_test=df_test.values.reshape(-1,28,28,1)"
   ]
  },
  {
   "cell_type": "markdown",
   "metadata": {
    "_uuid": "294fe9cc49542060515e1cebd208ff05aa5bd78d"
   },
   "source": [
    "<a id=\"there_you_go_3.4\"></a>\n",
    "## 3.4) Data Augmentation\n",
    "Data Augmentation simply means increasing the number of Data points. in terms of Images it means the increasing number of images in the Dataset.\n",
    "\n",
    "In order to avoid the overfitting problem, we need expand the dataset. This can be acheived by Rotating the Image, Flipping the Image, Zooming the Image, Changing light conditions, Cropping it etc.  The more the data, the better our models would perform.\n",
    "\n",
    "A CNN that can robustly classify objects even if its placed in different orientations is said to have the property called Invariance. In the real world scenario, we may have a dataset of images taken in a limited set of conditions. But, our target application may exist in a variety of conditions, such as different orientation, location, scale, brightness etc. We account for these situations by training our neural network with additional synthetically modified data.\n",
    "\n",
    "[Click here to read more about Data Augmentation.](https://medium.com/nanonets/how-to-use-deep-learning-when-you-have-limited-data-part-2-data-augmentation-c26971dc8ced)"
   ]
  },
  {
   "cell_type": "code",
   "execution_count": 16,
   "metadata": {
    "_uuid": "1667044a0bc22e9aecf5ecb7d9acbea8965b7415"
   },
   "outputs": [],
   "source": [
    "\n",
    "datagen = ImageDataGenerator(\n",
    "        featurewise_center=False,  # set input mean to 0 over the dataset\n",
    "        samplewise_center=False,  # set each sample mean to 0\n",
    "        featurewise_std_normalization=False,  # divide inputs by std of the dataset\n",
    "        samplewise_std_normalization=False,  # divide each input by its std\n",
    "        zca_whitening=False,  # apply ZCA whitening\n",
    "        rotation_range=10,  # randomly rotate images in the range (degrees, 0 to 180)\n",
    "        zoom_range = 0.1, # Randomly zoom image \n",
    "        width_shift_range=0.1,  # randomly shift images horizontally (fraction of total width)\n",
    "        height_shift_range=0.1,  # randomly shift images vertically (fraction of total height)\n",
    "        horizontal_flip=False,  # randomly flip images\n",
    "        vertical_flip=False)  # randomly flip images"
   ]
  },
  {
   "cell_type": "markdown",
   "metadata": {
    "_uuid": "c83160290ae3726e630b7c5e5d56c19d9150103a"
   },
   "source": [
    "<a id=\"there_you_go_3.5\"></a>\n",
    "## 3.5) Normalization"
   ]
  },
  {
   "cell_type": "markdown",
   "metadata": {
    "_uuid": "a58da740ad94586b1bda78d51336cf0824d6d756"
   },
   "source": [
    "The Pixel Values are often stored as __*Integer*__ Numbers in the range 0 to 255, the range that a single 8-bit byte can offer."
   ]
  },
  {
   "cell_type": "code",
   "execution_count": 17,
   "metadata": {
    "_uuid": "bbc474a431c36ee708a5b84662f71835afb355b5"
   },
   "outputs": [
    {
     "data": {
      "text/plain": [
       "label     int64\n",
       "pixel0    int64\n",
       "pixel1    int64\n",
       "pixel2    int64\n",
       "pixel3    int64\n",
       "dtype: object"
      ]
     },
     "execution_count": 17,
     "metadata": {},
     "output_type": "execute_result"
    }
   ],
   "source": [
    "df.dtypes.head()"
   ]
  },
  {
   "cell_type": "markdown",
   "metadata": {
    "_uuid": "7edb8059f697a9242df4dccbdae4d5e6933623f5"
   },
   "source": [
    "1. Normalization is performed on the Dataset to Scale the values within a Range. [0,1]\n",
    "2. This helps Gradient Descent to Converge much faster.\n",
    "3. Normalization is important to bring all the features to equal level and give all of them equal weigthage.\n",
    "4. Normalization helps remove distortions caused by Light and Shadows in an Image.\n",
    "\n",
    "\n",
    "5. Normalization is carried out as follows:\n",
    "\n",
    "> x = (x - min) / (max - min)  ;  Here min=0 and max=255"
   ]
  },
  {
   "cell_type": "code",
   "execution_count": 18,
   "metadata": {
    "_uuid": "6df07f161ac86910b87c123a74b53a19ac1cdc64"
   },
   "outputs": [],
   "source": [
    "# You need to make sure that your Image is cast into double/float from int before you do this scaling \n",
    "# as you will most likely generate floating point numbers.\n",
    "# And had it been int, the values will be truncated to zero.\n",
    "\n",
    "x_train = x_train.astype(\"float32\")/255\n",
    "x_test = x_test.astype(\"float32\")/255\n",
    "df_test = df_test.astype(\"float32\")/255"
   ]
  },
  {
   "cell_type": "code",
   "execution_count": 19,
   "metadata": {
    "_uuid": "b6469bbbc508c6b58c673953d81d489359c2f71d"
   },
   "outputs": [],
   "source": [
    "datagen.fit(x_train)"
   ]
  },
  {
   "cell_type": "markdown",
   "metadata": {
    "_uuid": "20738475fa57b13aa532cf90c6c21da4048a0660"
   },
   "source": [
    "<a id=\"there_you_go_3.6\"></a>\n",
    "## 3.6) One Hot Encoding\n",
    "The labels are given as integers between 0-9. We need to one hot encode them , Eg 4 [0, 0, 0, 1, 0, 0, 0, 0, 0, 0] . \n",
    "\n",
    "This is done so that we have labels for all the classes, and we can easily carry out the Error/Cost during BackPropogation.\n",
    "\n",
    "We have 10 digits [0-9] or classes, therefore we one-hot-encode the target variable with 10 classes"
   ]
  },
  {
   "cell_type": "code",
   "execution_count": 20,
   "metadata": {
    "_uuid": "aa755053c6f47a6b449d6b464c64018bc4612a35"
   },
   "outputs": [
    {
     "name": "stdout",
     "output_type": "stream",
     "text": [
      "[0. 0. 0. 0. 0. 0. 1. 0. 0. 0.]\n"
     ]
    }
   ],
   "source": [
    "y_train = to_categorical(y_train, num_classes=10)\n",
    "y_test = to_categorical(y_test, num_classes=10)\n",
    "\n",
    "print(y_train[0])"
   ]
  },
  {
   "cell_type": "markdown",
   "metadata": {
    "_uuid": "d9dbc53804548b1e317b7be62dc21ae76591dbe5"
   },
   "source": [
    "<a id=\"there_you_go_4\"></a>\n",
    "# 4) Training Convolutional Neural Network"
   ]
  },
  {
   "cell_type": "markdown",
   "metadata": {
    "_uuid": "342804fe464490c51e2fc4f85fc5e629650c1d0a"
   },
   "source": [
    "<a id=\"there_you_go_4.1\"></a>\n",
    "## 4.1) Why CNN?\n",
    "* **Because when it comes to Image Recognition, then CNN's are the best.**\n",
    "\n",
    "* **It became successful in the late 90's after Yann LeCun used it on MNIST and acheived 99.5% accuracy.**\n",
    "\n",
    "* **You can try other Models like Support Vector Machines, K-Nearest Neighbour, Random Forest but the accuracy acheived is 96-97%, which is not that good.**\n",
    "\n",
    "* **The Biggest Challenge is picking the Right model by understanding the Data rather than Tuning parameters of other models.**\n",
    "\n",
    "* **And the last point, A large Training data really helps in improving Neural Networks Accuracy.**"
   ]
  },
  {
   "cell_type": "markdown",
   "metadata": {
    "_uuid": "fd036446898953465e464a9a35ddd593cf8e1ef4"
   },
   "source": [
    "### Convolution Operation\n",
    "![Imgur](https://i.imgur.com/LMmTCdJ.gif)"
   ]
  },
  {
   "cell_type": "markdown",
   "metadata": {
    "_uuid": "e4022f88f362d9824412b2d1e573c88041eb365b"
   },
   "source": [
    "<a id=\"there_you_go_4.2\"></a>\n",
    "## 4.2) Building a ConvNet"
   ]
  },
  {
   "cell_type": "markdown",
   "metadata": {
    "_uuid": "829344589924265a4c7dcc80f570e641539ad26b"
   },
   "source": [
    "![](https://i.imgur.com/PJTTKtB.jpg)"
   ]
  },
  {
   "cell_type": "markdown",
   "metadata": {
    "_uuid": "23cd370310db81e084d27a84187b5c40156373a9"
   },
   "source": [
    "**Steps:**\n",
    "\n",
    "1) At First, we use **Sequential Keras API** which is just a linear stack of layers. We add one layer at a time starting from input.\n",
    "\n",
    "2) Next We add **Convolutional Layers**, which are the Building blocks of ConvNets. Convolutional Layers has set of Independent Filters whose depth is equal to Input and other dimensions can be set manually. These Filters when convolved over the Input Image produce *Feature Maps*. \n",
    "\n",
    "It includes some HyperParameters such as **The number of filters, Dimensions of Filter (F), Stride (S), Padding(P) , Activation Function etc. which we input manually. Let the Input Volume Size be deonted by (W) ,**\n",
    "\n",
    "**Then, the Output will have Dimensions given by -->**\n",
    "\n",
    "**(Height, Width) = ( ( W − F + 2P ) / S ) + 1 **\n",
    "\n",
    "And the Depth will be equal to Number of Filters Specified.\n",
    "\n",
    "3) Next We add **Pooling Layers**, which are used for Dimensionality Reduction or DownSampling the Input. These are used where we have lot of Input Features. It reduces the amount of Parameters and Computational power required drastically, thus reducing Overfitting. These along with Convolutional layers are able to learn more Complex features of the Image.\n",
    "\n",
    "4) We add **Batch Normalization** where we acheive Zero mean and Variance one. It scales down outliers and forces the network to learn features in a distributed way, not relying too much on a Particular Weight and makes the model better Generalize the Images.\n",
    "\n",
    "5) To avoid Overfitting We add **Dropout**. This randomly drops some percentage of neurons, and thus the weights gets Re-Aligned. The remaining Neurons learn more features and this reduces the dependency on any one Neuron. DropOut is a Regularization Technique, which Penalizes the Parameters. Generally we set the DropOutRate between 0.2-0.5 .\n",
    "\n",
    "6) Finally we add **Flatten layer** to map the input to a 1D vector. We then add Fully connected Layers after some convolutional/pooling layers. It combines all the Features of the Previous Layers.\n",
    "\n",
    "7) Lastly, we add the **Output Layer**. It has units equal to the number of classes to be identified. Here, we use 'sigmoid' function if it is Binary Classification otherwise 'softmax' activation function in case of Multi-Class Classification."
   ]
  },
  {
   "cell_type": "code",
   "execution_count": 21,
   "metadata": {
    "_uuid": "666bab55651a2dcde9e8b0e9b991240e1bd2acb7"
   },
   "outputs": [],
   "source": [
    "# Building ConvNet\n",
    "\n",
    "model = Sequential()\n",
    "model.add(Conv2D(filters=32, kernel_size=(3, 3), activation='relu', strides=1, padding='same', data_format='channels_last',\n",
    "                 input_shape=(28,28,1)))\n",
    "model.add(BatchNormalization())\n",
    "model.add(Conv2D(filters=32, kernel_size=(3, 3), activation='relu', strides=1, padding='same', data_format='channels_last'))\n",
    "model.add(BatchNormalization())\n",
    "model.add(MaxPooling2D(pool_size=(2, 2), strides=2, padding='valid' ))\n",
    "model.add(Dropout(0.25))\n",
    "\n",
    "model.add(Conv2D(filters=64, kernel_size=(3, 3), activation='relu', strides=1, padding='same', data_format='channels_last'))\n",
    "model.add(BatchNormalization())\n",
    "model.add(Conv2D(filters=64, kernel_size=(3, 3), strides=1, padding='same', activation='relu', data_format='channels_last'))\n",
    "model.add(BatchNormalization())\n",
    "model.add(MaxPooling2D(pool_size=(2, 2), padding='valid', strides=2))\n",
    "model.add(Dropout(0.25))\n",
    "\n",
    "model.add(Flatten())\n",
    "model.add(Dense(512, activation='relu'))\n",
    "model.add(BatchNormalization())\n",
    "model.add(Dropout(0.25))\n",
    "model.add(Dense(1024, activation='relu'))\n",
    "model.add(BatchNormalization())\n",
    "model.add(Dropout(0.5))\n",
    "model.add(Dense(10, activation='softmax'))"
   ]
  },
  {
   "cell_type": "markdown",
   "metadata": {
    "_uuid": "c2707e7a0a056248d63f1218dd9766d709576f03"
   },
   "source": [
    "<a id=\"there_you_go_4.3\"></a>\n",
    "## 4.3) Compiling the Model\n",
    "1) Before Training the model, we need to configure the Learning process, which is done via the compile method in Keras.\n",
    "\n",
    "2) We need to specify the Optimizer. Optimization Algorithms help us minimize the Error Function. The internal parameters of a Model play a very important role in efficiently and effectively training a Model and produce accurate results. This is why we use various Optimization strategies and algorithms to update and calculate appropriate and optimum values of such model’s parameters \n",
    "\n",
    "There are a lot of Optimization Algos available, You can use RMSprop, Adam, AdaGrad, AdaDelta etc. I have used Adam (Adaptive Moment Estimation) here as it converges very fast and the learning speed of the Model is quiet Fast and efficient and also it rectifies every problem that is faced in other optimization techniques such as vanishing Learning rate , slow convergence or High variance in the parameter updates which leads to fluctuating Loss function.\n",
    "\n",
    "3) Next we Specify Loss Function. For Binary Classification we use \"binary_crossentropy\" and for Multi-class Classification we use \"categorical_crossentropy\".\n",
    "\n",
    "4) Atlast we specify the metrics to Evaluate the model performance."
   ]
  },
  {
   "cell_type": "code",
   "execution_count": 22,
   "metadata": {
    "_uuid": "670f6b1297de1f2c80123982f61082dd9c117f96"
   },
   "outputs": [],
   "source": [
    "# Optimizer\n",
    "optimizer = Adam(lr=0.001, beta_1=0.9, beta_2=0.999 )"
   ]
  },
  {
   "cell_type": "code",
   "execution_count": 23,
   "metadata": {
    "_uuid": "d5103104d9d695fe284bb49075a0d30b11f2c6f0"
   },
   "outputs": [],
   "source": [
    "# Compiling the model\n",
    "model.compile(optimizer=optimizer, loss=\"categorical_crossentropy\", metrics=[\"accuracy\"])"
   ]
  },
  {
   "cell_type": "markdown",
   "metadata": {
    "_uuid": "a2ea047ea66eea6098033acc707e20d473e29456"
   },
   "source": [
    "<a id=\"there_you_go_4.4\"></a>\n",
    "## 4.4) Model Summary\n",
    "**Prints the summary representation of your model.**"
   ]
  },
  {
   "cell_type": "code",
   "execution_count": 24,
   "metadata": {
    "_uuid": "7ebc69b2331cd3be78e01ffcd79f1a9b0c5d9523"
   },
   "outputs": [
    {
     "name": "stdout",
     "output_type": "stream",
     "text": [
      "_________________________________________________________________\n",
      "Layer (type)                 Output Shape              Param #   \n",
      "=================================================================\n",
      "conv2d_1 (Conv2D)            (None, 28, 28, 32)        320       \n",
      "_________________________________________________________________\n",
      "batch_normalization_1 (Batch (None, 28, 28, 32)        128       \n",
      "_________________________________________________________________\n",
      "conv2d_2 (Conv2D)            (None, 28, 28, 32)        9248      \n",
      "_________________________________________________________________\n",
      "batch_normalization_2 (Batch (None, 28, 28, 32)        128       \n",
      "_________________________________________________________________\n",
      "max_pooling2d_1 (MaxPooling2 (None, 14, 14, 32)        0         \n",
      "_________________________________________________________________\n",
      "dropout_1 (Dropout)          (None, 14, 14, 32)        0         \n",
      "_________________________________________________________________\n",
      "conv2d_3 (Conv2D)            (None, 14, 14, 64)        18496     \n",
      "_________________________________________________________________\n",
      "batch_normalization_3 (Batch (None, 14, 14, 64)        256       \n",
      "_________________________________________________________________\n",
      "conv2d_4 (Conv2D)            (None, 14, 14, 64)        36928     \n",
      "_________________________________________________________________\n",
      "batch_normalization_4 (Batch (None, 14, 14, 64)        256       \n",
      "_________________________________________________________________\n",
      "max_pooling2d_2 (MaxPooling2 (None, 7, 7, 64)          0         \n",
      "_________________________________________________________________\n",
      "dropout_2 (Dropout)          (None, 7, 7, 64)          0         \n",
      "_________________________________________________________________\n",
      "flatten_1 (Flatten)          (None, 3136)              0         \n",
      "_________________________________________________________________\n",
      "dense_1 (Dense)              (None, 512)               1606144   \n",
      "_________________________________________________________________\n",
      "batch_normalization_5 (Batch (None, 512)               2048      \n",
      "_________________________________________________________________\n",
      "dropout_3 (Dropout)          (None, 512)               0         \n",
      "_________________________________________________________________\n",
      "dense_2 (Dense)              (None, 1024)              525312    \n",
      "_________________________________________________________________\n",
      "batch_normalization_6 (Batch (None, 1024)              4096      \n",
      "_________________________________________________________________\n",
      "dropout_4 (Dropout)          (None, 1024)              0         \n",
      "_________________________________________________________________\n",
      "dense_3 (Dense)              (None, 10)                10250     \n",
      "=================================================================\n",
      "Total params: 2,213,610\n",
      "Trainable params: 2,210,154\n",
      "Non-trainable params: 3,456\n",
      "_________________________________________________________________\n"
     ]
    }
   ],
   "source": [
    "model.summary()"
   ]
  },
  {
   "cell_type": "markdown",
   "metadata": {
    "_uuid": "9ea4c8f5d0f9c756f0b3f78a84f91ea15ae1aaf6"
   },
   "source": [
    "<a id=\"there_you_go_4.5\"></a>\n",
    "## 4.5) Learning Rate Decay\n",
    "* Learning Rate plays a vital role in minimizing the Cost Function. Learning Rate is a Descent step which the Optimizing Algorithms take in order to Converge to a local optimum. \n",
    "* The Learning rate should be properly tuned , such that it is not too high to take very large steps, neither it should be too small , which would not alter the Weights and Biases.\n",
    "* Many Optimization Algorithms have a constant Learning Rate, which many a times do not converge to local optimum, and therefore we need to use Learning Rate such that it starts with a good learning rate and eventually reduces in oder to reach downhill.\n",
    "\n",
    "* To implement Learning Rate Decay, we can use either **LearningRateScheduler** or **ReduceLRonPlateau**.\n",
    "* **LearningRateScheduler** takes the step decay function as argument and return the updated learning rates for use in optimzer at every epoch stage.\n",
    "* **ReduceLRonPlateau** monitors a quantity and if no improvement is seen for a 'patience' number of epochs, then the learning rate is reduced by a factor specified manually."
   ]
  },
  {
   "cell_type": "markdown",
   "metadata": {
    "_uuid": "8cbb6737068b9cde4ce178db548cfbf3d94ff68b"
   },
   "source": [
    "![](https://i.imgur.com/4m7Zw1T.png)"
   ]
  },
  {
   "cell_type": "code",
   "execution_count": 25,
   "metadata": {
    "_uuid": "d18efe6fcea3231500b9c736ba9ce4550062e204"
   },
   "outputs": [],
   "source": [
    "reduce_lr = LearningRateScheduler(lambda x: 1e-3 * 0.9 ** x)"
   ]
  },
  {
   "cell_type": "markdown",
   "metadata": {
    "_uuid": "ed8e89f4262c6708577c54280b56eca8b610b32e"
   },
   "source": [
    "<a id=\"there_you_go_4.6\"></a>\n",
    "## 4.6) Fitting the model"
   ]
  },
  {
   "cell_type": "code",
   "execution_count": 26,
   "metadata": {
    "_uuid": "2fb4d6acc6cd322baa6ed762b00ae0da6b7ba10b"
   },
   "outputs": [],
   "source": [
    "batch_size = 64\n",
    "epochs = 20"
   ]
  },
  {
   "cell_type": "code",
   "execution_count": 27,
   "metadata": {
    "_uuid": "0e8da7c810815e8593238b4953e7c07ad36a210f"
   },
   "outputs": [
    {
     "name": "stdout",
     "output_type": "stream",
     "text": [
      "Epoch 1/20\n",
      " - 22s - loss: 0.3842 - acc: 0.8892 - val_loss: 0.0831 - val_acc: 0.9745\n",
      "Epoch 2/20\n",
      " - 17s - loss: 0.1279 - acc: 0.9603 - val_loss: 0.0605 - val_acc: 0.9821\n",
      "Epoch 3/20\n",
      " - 18s - loss: 0.0996 - acc: 0.9702 - val_loss: 0.0413 - val_acc: 0.9902\n",
      "Epoch 4/20\n",
      " - 18s - loss: 0.0778 - acc: 0.9767 - val_loss: 0.0419 - val_acc: 0.9881\n",
      "Epoch 5/20\n",
      " - 17s - loss: 0.0662 - acc: 0.9802 - val_loss: 0.0489 - val_acc: 0.9862\n",
      "Epoch 6/20\n",
      " - 17s - loss: 0.0619 - acc: 0.9813 - val_loss: 0.0316 - val_acc: 0.9907\n",
      "Epoch 7/20\n",
      " - 19s - loss: 0.0566 - acc: 0.9825 - val_loss: 0.0387 - val_acc: 0.9895\n",
      "Epoch 8/20\n",
      " - 17s - loss: 0.0531 - acc: 0.9846 - val_loss: 0.0278 - val_acc: 0.9921\n",
      "Epoch 9/20\n",
      " - 17s - loss: 0.0463 - acc: 0.9853 - val_loss: 0.0356 - val_acc: 0.9910\n",
      "Epoch 10/20\n",
      " - 18s - loss: 0.0421 - acc: 0.9862 - val_loss: 0.0249 - val_acc: 0.9952\n",
      "Epoch 11/20\n",
      " - 18s - loss: 0.0401 - acc: 0.9874 - val_loss: 0.0265 - val_acc: 0.9931\n",
      "Epoch 12/20\n",
      " - 18s - loss: 0.0329 - acc: 0.9892 - val_loss: 0.0327 - val_acc: 0.9912\n",
      "Epoch 13/20\n",
      " - 17s - loss: 0.0366 - acc: 0.9886 - val_loss: 0.0263 - val_acc: 0.9926\n",
      "Epoch 14/20\n",
      " - 19s - loss: 0.0304 - acc: 0.9901 - val_loss: 0.0268 - val_acc: 0.9933\n",
      "Epoch 15/20\n",
      " - 17s - loss: 0.0294 - acc: 0.9906 - val_loss: 0.0247 - val_acc: 0.9936\n",
      "Epoch 16/20\n",
      " - 17s - loss: 0.0284 - acc: 0.9908 - val_loss: 0.0221 - val_acc: 0.9945\n",
      "Epoch 17/20\n",
      " - 19s - loss: 0.0256 - acc: 0.9920 - val_loss: 0.0265 - val_acc: 0.9931\n",
      "Epoch 18/20\n",
      " - 17s - loss: 0.0252 - acc: 0.9922 - val_loss: 0.0217 - val_acc: 0.9948\n",
      "Epoch 19/20\n",
      " - 17s - loss: 0.0239 - acc: 0.9930 - val_loss: 0.0215 - val_acc: 0.9943\n",
      "Epoch 20/20\n",
      " - 17s - loss: 0.0224 - acc: 0.9933 - val_loss: 0.0210 - val_acc: 0.9945\n"
     ]
    }
   ],
   "source": [
    "# Fit the Model\n",
    "history = model.fit_generator(datagen.flow(x_train, y_train, batch_size = batch_size), epochs = epochs, \n",
    "                              validation_data = (x_test, y_test), verbose=2, \n",
    "                              steps_per_epoch=x_train.shape[0] // batch_size,\n",
    "                              callbacks = [reduce_lr])"
   ]
  },
  {
   "cell_type": "markdown",
   "metadata": {
    "_uuid": "00dd029565469d8facb591ee0a4829c4f553af12"
   },
   "source": [
    "<a id=\"there_you_go_5\"></a>\n",
    "# 5) Evaluating the Model"
   ]
  },
  {
   "cell_type": "markdown",
   "metadata": {
    "_uuid": "08e6a68ff9d384042e43cfe792fb431ca4b28ef6"
   },
   "source": [
    "<a id=\"there_you_go_5.1\"></a>\n",
    "## 5.1) Plotting the Train and Validation Curves\n",
    "Let's plot \"Accuracy as a function of number of Epochs\" and also \"Loss as a function of number of Epochs\"."
   ]
  },
  {
   "cell_type": "code",
   "execution_count": 28,
   "metadata": {
    "_uuid": "8d15446886b9768af2df67e0390f5df0760cfe33"
   },
   "outputs": [
    {
     "name": "stdout",
     "output_type": "stream",
     "text": [
      "4200/4200 [==============================] - 0s 93us/step\n"
     ]
    },
    {
     "data": {
      "text/plain": [
       "[0.021024468635826323, 0.9945238095238095]"
      ]
     },
     "execution_count": 28,
     "metadata": {},
     "output_type": "execute_result"
    }
   ],
   "source": [
    "model.evaluate(x_test, y_test)"
   ]
  },
  {
   "cell_type": "code",
   "execution_count": 29,
   "metadata": {
    "_uuid": "315b948940ab557b600dc0cd63cfd01c17dbd721"
   },
   "outputs": [
    {
     "data": {
      "image/png": "[encoded data removed]",
      "text/plain": [
       "<Figure size 432x288 with 1 Axes>"
      ]
     },
     "metadata": {
      "needs_background": "light"
     },
     "output_type": "display_data"
    }
   ],
   "source": [
    "plt.plot(history.history['loss'])\n",
    "plt.plot(history.history['val_loss'])\n",
    "plt.title(\"Model Loss\")\n",
    "plt.xlabel('Epochs')\n",
    "plt.ylabel('Loss')\n",
    "plt.legend(['Train', 'Test'])\n",
    "plt.show()"
   ]
  },
  {
   "cell_type": "code",
   "execution_count": 30,
   "metadata": {
    "_uuid": "75b37efac012a220417b19f294b0428ed0445c16"
   },
   "outputs": [
    {
     "data": {
      "image/png": "[encoded data removed]",
      "text/plain": [
       "<Figure size 432x288 with 1 Axes>"
      ]
     },
     "metadata": {
      "needs_background": "light"
     },
     "output_type": "display_data"
    }
   ],
   "source": [
    "plt.plot(history.history['acc'])\n",
    "plt.plot(history.history['val_acc'])\n",
    "plt.title('Model Accuracy')\n",
    "plt.xlabel('Epochs')\n",
    "plt.ylabel('Accuracy')\n",
    "plt.legend(['Train','Test'])\n",
    "plt.show()"
   ]
  },
  {
   "cell_type": "markdown",
   "metadata": {
    "_uuid": "ad3b3a8edb5d97259e324035d661c77e754ca343",
    "collapsed": true
   },
   "source": [
    "**We can clearly see that the Validation Accuracy and Training Accuracy are close enough. This concludes that our model is not Overfitting the Data.**"
   ]
  },
  {
   "cell_type": "markdown",
   "metadata": {
    "_uuid": "cfcdd4f8ab4991341a4f33ec5e6310848fa284b4"
   },
   "source": [
    "<a id=\"there_you_go_6\"></a>\n",
    "# 6) Confusion Matrix\n",
    "Let's view the the Performance of our classification model on the data using Confusion Matrix."
   ]
  },
  {
   "cell_type": "code",
   "execution_count": 31,
   "metadata": {
    "_uuid": "94072bddfa41887185a86f484affbdf9c3e2239f"
   },
   "outputs": [
    {
     "data": {
      "image/png": "[encoded data removed]",
      "text/plain": [
       "<Figure size 432x288 with 2 Axes>"
      ]
     },
     "metadata": {
      "needs_background": "light"
     },
     "output_type": "display_data"
    }
   ],
   "source": [
    "def plot_confusion_matrix(cm, classes,\n",
    "                          normalize=False,\n",
    "                          title='Confusion matrix',\n",
    "                          cmap=plt.cm.Blues):\n",
    "    \"\"\"\n",
    "    This function prints and plots the confusion matrix.\n",
    "    Normalization can be applied by setting `normalize=True`.\n",
    "    \"\"\"\n",
    "    plt.imshow(cm, interpolation='nearest', cmap=cmap)\n",
    "    plt.title(title)\n",
    "    plt.colorbar()\n",
    "    tick_marks = np.arange(len(classes))\n",
    "    plt.xticks(tick_marks, classes, rotation=45)\n",
    "    plt.yticks(tick_marks, classes)\n",
    "\n",
    "    if normalize:\n",
    "        cm = cm.astype('float') / cm.sum(axis=1)[:, np.newaxis]\n",
    "\n",
    "    thresh = cm.max() / 2.\n",
    "    for i, j in itertools.product(range(cm.shape[0]), range(cm.shape[1])):\n",
    "        plt.text(j, i, cm[i, j],\n",
    "                 horizontalalignment=\"center\",\n",
    "                 color=\"white\" if cm[i, j] > thresh else \"black\")\n",
    "\n",
    "    plt.tight_layout()\n",
    "    plt.ylabel('True label')\n",
    "    plt.xlabel('Predicted label')\n",
    "\n",
    "# Predict the values from the validation dataset\n",
    "Y_pred = model.predict(x_test)\n",
    "# Convert predictions classes to one hot vectors \n",
    "Y_pred_classes = np.argmax(Y_pred,axis = 1) \n",
    "# Convert validation observations to one hot vectors\n",
    "Y_true = np.argmax(y_test,axis = 1) \n",
    "# compute the confusion matrix\n",
    "confusion_mtx = confusion_matrix(Y_true, Y_pred_classes) \n",
    "# plot the confusion matrix\n",
    "plot_confusion_matrix(confusion_mtx, classes = range(10))"
   ]
  },
  {
   "cell_type": "markdown",
   "metadata": {
    "_uuid": "e715ad63a0f8d0f3570ea1b2a6fdfff2c60ffb61"
   },
   "source": [
    "**Our model did pretty good job in classifying the Images. But it seems that it got confused and misclassified digit 4 as 9.**"
   ]
  },
  {
   "cell_type": "markdown",
   "metadata": {
    "_uuid": "6c7011cf1da40710ea1041a5c9de91079800ad3a"
   },
   "source": [
    "<a id=\"there_you_go_7\"></a>\n",
    "# 7) Generating CSV File"
   ]
  },
  {
   "cell_type": "code",
   "execution_count": 32,
   "metadata": {
    "_uuid": "60a395262ea559f967bf54cd94468e0ca7675619"
   },
   "outputs": [],
   "source": [
    "pred_digits_test=np.argmax(model.predict(df_test),axis=1)\n",
    "image_id_test=[]\n",
    "for i in range (len(pred_digits_test)):\n",
    "    image_id_test.append(i+1)\n",
    "d={'ImageId':image_id_test,'Label':pred_digits_test}\n",
    "answer=pd.DataFrame(d)\n",
    "answer.to_csv('answer.csv',index=False)"
   ]
  },
  {
   "cell_type": "markdown",
   "metadata": {},
   "source": [
    "<a id=\"there_you_go_8\"></a>\n",
    "# 8) Resources\n",
    "\n",
    "1. Deep Learning ([Blog](https://medium.com/intro-to-artificial-intelligence/deep-learning-series-1-intro-to-deep-learning-abb1780ee20)) ([Video](https://www.youtube.com/watch?v=6M5VXKLf4D4&ab_channel=Simplilearn))\n",
    "2. Neural Network ([Blog](https://medium.com/@purnasaigudikandula/a-beginner-intro-to-neural-networks-543267bda3c8)) ([Video](https://www.youtube.com/watch?v=aircAruvnKk&ab_channel=3Blue1Brown))\n",
    "3. Convolutions Explained ([Blog 1](https://towardsdatascience.com/intuitively-understanding-convolutions-for-deep-learning-1f6f42faee1)) ([Blog 2](https://towardsdatascience.com/building-a-convolutional-neural-network-cnn-in-keras-329fbbadc5f5)) ([Blog 3](https://cs231n.github.io/convolutional-networks/)) ([Blog 4](https://adeshpande3.github.io/A-Beginner%27s-Guide-To-Understanding-Convolutional-Neural-Networks/)) ([Blog 5](https://adeshpande3.github.io/adeshpande3.github.io/A-Beginner's-Guide-To-Understanding-Convolutional-Neural-Networks-Part-2/)) ([Video](https://www.youtube.com/watch?v=YRhxdVk_sIs&ab_channel=deeplizard))\n",
    "4. Data Augmentation ([Blog](https://medium.com/nanonets/how-to-use-deep-learning-when-you-have-limited-data-part-2-data-augmentation-c26971dc8ced)) ([Video](https://www.youtube.com/watch?v=14syUbL16k4&ab_channel=deeplizard))\n",
    "\n",
    "Complete Deep Learning Specialization ([Coursera](https://www.coursera.org/specializations/deep-learning))"
   ]
  }
 ],
 "metadata": {
  "kernelspec": {
   "display_name": "Python 3",
   "language": "python",
   "name": "python3"
  },
  "language_info": {
   "codemirror_mode": {
    "name": "ipython",
    "version": 3
   },
   "file_extension": ".py",
   "mimetype": "text/x-python",
   "name": "python",
   "nbconvert_exporter": "python",
   "pygments_lexer": "ipython3",
   "version": "3.6.6"
  }
 },
 "nbformat": 4,
 "nbformat_minor": 4
}
